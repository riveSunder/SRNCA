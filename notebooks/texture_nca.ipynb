{
 "cells": [
  {
   "cell_type": "code",
   "execution_count": null,
   "id": "ddf31861",
   "metadata": {},
   "outputs": [],
   "source": [
    "# to run this notebook in colab, you'll need to install the repo:\n",
    "# uncomment the code below to install srnca\n",
    "\n",
    "#! git clone https://github.com/rivesunder/SRNCA \n",
    "#%cd SRNCA\n",
    "#! pip install -e ."
   ]
  },
  {
   "cell_type": "code",
   "execution_count": null,
   "id": "37d9400d",
   "metadata": {},
   "outputs": [],
   "source": [
    "import torch\n",
    "import torch.nn as nn\n",
    "import torch.nn.functional as F\n",
    "\n",
    "import torchvision\n",
    "import torchvision.models\n",
    "\n",
    "import numpy as np\n",
    "\n",
    "\n",
    "import skimage\n",
    "import skimage.io as sio\n",
    "import skimage.transform\n",
    "\n",
    "from srnca.nca import NCA\n",
    "from srnca.utils import image_to_tensor, tensor_to_image, read_image, seed_all\n",
    "\n",
    "import matplotlib.pyplot as plt\n",
    "import matplotlib\n",
    "\n",
    "matplotlib.rcParams[\"animation.embed_limit\"] = 512\n",
    "\n",
    "import matplotlib.animation\n",
    "import IPython"
   ]
  },
  {
   "cell_type": "code",
   "execution_count": null,
   "id": "58f8e5f7",
   "metadata": {},
   "outputs": [],
   "source": [
    "def plot_grid(grid):\n",
    "\n",
    "    global subplot_0\n",
    "            \n",
    "    fig, ax = plt.subplots(1,1, figsize=(7.5,7.5), facecolor=\"white\")\n",
    "\n",
    "    grid_display = tensor_to_image(grid)\n",
    "    \n",
    "    subplot_0 = ax.imshow(grid_display, interpolation=\"nearest\")\n",
    "   \n",
    "    ax.set_yticklabels('')\n",
    "    ax.set_xticklabels('')\n",
    "\n",
    "    plt.tight_layout()\n",
    "\n",
    "    return fig, ax\n",
    "\n",
    "def update_fig(i):\n",
    "\n",
    "    global subplot_0    \n",
    "    global grid\n",
    "    \n",
    "    grid = nca(grid)\n",
    "    grid_display = tensor_to_image(grid)\n",
    "    \n",
    "    subplot_0.set_array(grid_display)\n",
    "\n",
    "exp_counter = 0"
   ]
  },
  {
   "cell_type": "code",
   "execution_count": null,
   "id": "0e7aafb1",
   "metadata": {},
   "outputs": [],
   "source": [
    "# sample hyperparameters\n",
    "\n",
    "channel_choices = [3,6,9,12,15]\n",
    "hidden_choices = [16, 32, 64, 96]\n",
    "\n",
    "lr_exponent = np.random.randint(3,6)                        \n",
    "number_channels = np.random.choice(channel_choices)\n",
    "number_hidden = np.random.choice(hidden_choices)\n",
    "\n",
    "lr = 10.**(-lr_exponent)\n",
    "\n",
    "exp_counter += 1\n",
    "exp_tag = f\"exp_{exp_counter:04}\""
   ]
  },
  {
   "cell_type": "code",
   "execution_count": null,
   "id": "99f00590",
   "metadata": {},
   "outputs": [],
   "source": [
    "#url = \"https://www.nasa.gov/centers/ames/images/content/72511main_cellstructure8.jpeg\"\n",
    "url = \"https://live.staticflickr.com/2637/3747058285_98f5b42a64_w_d.jpg\"\n",
    "#url = \"../data/images/orbia_magma.png\"\n",
    "#url = \"../data/images/jwst_segment_alignment.jpg\"\n",
    "\n",
    "\n",
    "img = read_image(url, max_size=96)[:,:,:3]\n",
    "\n",
    "target = image_to_tensor(img)\n",
    "img = tensor_to_image(target)\n",
    "print(target.shape, img.shape)\n",
    "seed_all(13)\n",
    "\n",
    "nca = NCA(number_channels=12, number_hidden=96)\n",
    "\n",
    "# view the training image\n",
    "plt.figure()\n",
    "plt.imshow(img)\n",
    "plt.show()"
   ]
  },
  {
   "cell_type": "code",
   "execution_count": null,
   "id": "d4ed061f",
   "metadata": {},
   "outputs": [],
   "source": [
    "# optional, move model to gpu\n",
    "nca.to_device(\"cuda\")"
   ]
  },
  {
   "cell_type": "code",
   "execution_count": null,
   "id": "ab7f8a94",
   "metadata": {},
   "outputs": [],
   "source": [
    "# train for textureso\n",
    "print(target.mean(), target.max(), target.min())\n",
    "nca.fit(target, max_steps=200, max_ca_steps=20, lr = 1e-3, exp_tag=exp_tag)"
   ]
  },
  {
   "cell_type": "code",
   "execution_count": null,
   "id": "e8b3cf1a",
   "metadata": {},
   "outputs": [],
   "source": [
    "num_frames = 360\n",
    "\n",
    "grid = nca.get_init_grid(batch_size=1, dim=128)\n",
    "\n",
    "fig, ax = plot_grid(grid)\n",
    "\n",
    "plt.close(\"all\")\n",
    "IPython.display.HTML(matplotlib.animation.FuncAnimation(fig, update_fig, frames=num_frames, interval=100).to_jshtml())"
   ]
  },
  {
   "cell_type": "code",
   "execution_count": null,
   "id": "1076253c",
   "metadata": {},
   "outputs": [],
   "source": []
  }
 ],
 "metadata": {
  "kernelspec": {
   "display_name": "Python 3 (ipykernel)",
   "language": "python",
   "name": "python3"
  },
  "language_info": {
   "codemirror_mode": {
    "name": "ipython",
    "version": 3
   },
   "file_extension": ".py",
   "mimetype": "text/x-python",
   "name": "python",
   "nbconvert_exporter": "python",
   "pygments_lexer": "ipython3",
   "version": "3.8.0"
  }
 },
 "nbformat": 4,
 "nbformat_minor": 5
}
