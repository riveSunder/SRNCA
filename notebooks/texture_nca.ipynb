{
 "cells": [
  {
   "cell_type": "code",
   "execution_count": null,
   "id": "ddf31861",
   "metadata": {},
   "outputs": [],
   "source": [
    "# to run this notebook in colab, you'll need to install the repo:\n",
    "# uncomment the code below to install srnca\n",
    "\n",
    "#! git clone https://github.com/rivesunder/SRNCA \n",
    "#%cd SRNCA\n",
    "# #! pip install -e ."
   ]
  },
  {
   "cell_type": "code",
   "execution_count": null,
   "id": "b7058445",
   "metadata": {},
   "outputs": [],
   "source": [
    "# optional switchs\n",
    "\n",
    "crop_image = False\n",
    "use_cuda = True\n",
    "img_dim = 128"
   ]
  },
  {
   "cell_type": "code",
   "execution_count": null,
   "id": "37d9400d",
   "metadata": {},
   "outputs": [],
   "source": [
    "import os\n",
    "\n",
    "import torch\n",
    "import torch.nn as nn\n",
    "import torch.nn.functional as F\n",
    "\n",
    "import torchvision\n",
    "import torchvision.models\n",
    "\n",
    "import numpy as np\n",
    "\n",
    "\n",
    "import skimage\n",
    "import skimage.io as sio\n",
    "import skimage.transform\n",
    "\n",
    "from srnca.nca import NCA\n",
    "from srnca.utils import image_to_tensor, tensor_to_image, read_image, seed_all\n",
    "\n",
    "import matplotlib.pyplot as plt\n",
    "import matplotlib\n",
    "\n",
    "matplotlib.rcParams[\"animation.embed_limit\"] = 256\n",
    "\n",
    "import matplotlib.animation\n",
    "import IPython"
   ]
  },
  {
   "cell_type": "code",
   "execution_count": null,
   "id": "58f8e5f7",
   "metadata": {},
   "outputs": [],
   "source": [
    "def plot_grid(grid):\n",
    "\n",
    "    global subplot_0\n",
    "            \n",
    "    fig, ax = plt.subplots(1,1, figsize=(7.5,7.5), facecolor=\"white\")\n",
    "\n",
    "    grid_display = tensor_to_image(grid)\n",
    "    \n",
    "    subplot_0 = ax.imshow(grid_display, interpolation=\"nearest\")\n",
    "   \n",
    "    ax.set_yticklabels('')\n",
    "    ax.set_xticklabels('')\n",
    "\n",
    "    plt.tight_layout()\n",
    "\n",
    "    return fig, ax\n",
    "\n",
    "def update_fig(i):\n",
    "\n",
    "    global subplot_0    \n",
    "    global grid\n",
    "    \n",
    "    grid = nca(grid)\n",
    "    grid_display = tensor_to_image(grid)\n",
    "    \n",
    "    subplot_0.set_array(grid_display)\n"
   ]
  },
  {
   "cell_type": "code",
   "execution_count": null,
   "id": "d2d030cd",
   "metadata": {},
   "outputs": [],
   "source": [
    "# seed for repeatability\n",
    "exp_counter = 0\n",
    "my_seed = 42\n",
    "seed_all(my_seed)"
   ]
  },
  {
   "cell_type": "code",
   "execution_count": null,
   "id": "07febfaf",
   "metadata": {},
   "outputs": [],
   "source": [
    "# sample hyperparameters\n",
    "\n",
    "channel_choices = [6,9,12,15]\n",
    "hidden_choices = [16, 32, 64, 96]\n",
    "ca_step_choices = [20, 30, 40]\n",
    "batch_size_choices = [2, 4]\n",
    "filter_choices = [4, 5, 6]\n",
    "\n",
    "lr_exponent = np.random.randint(3,6)                        \n",
    "number_channels = np.random.choice(channel_choices)\n",
    "number_hidden = np.random.choice(hidden_choices)\n",
    "max_ca_steps = np.random.choice(ca_step_choices)\n",
    "batch_size = np.random.choice(batch_size_choices)\n",
    "number_filters = np.random.choice(filter_choices)\n",
    "\n",
    "lr = 10.**(-lr_exponent)\n",
    "\n",
    "exp_counter += 1\n",
    "exp_tag = f\"exp_{exp_counter:04}\""
   ]
  },
  {
   "cell_type": "code",
   "execution_count": null,
   "id": "31d2fbf6",
   "metadata": {},
   "outputs": [],
   "source": [
    "# default values \n",
    "lr = 1e-3\n",
    "number_channels = 9\n",
    "number_hidden = 96\n",
    "number_filters = 4\n",
    "batch_size = 2\n",
    "max_ca_steps = 20\n",
    "update_rate = 0.75"
   ]
  },
  {
   "cell_type": "code",
   "execution_count": null,
   "id": "99f00590",
   "metadata": {},
   "outputs": [],
   "source": [
    "url = \"https://www.nasa.gov/centers/ames/images/content/72511main_cellstructure8.jpeg\"\n",
    "\n",
    "#url = \"https://www.nasa.gov/sites/default/files/thumbnails/image/telescope_alignment_evaluation_image_labeled.png\"\n",
    "#url = \"https://spaceplace.nasa.gov/jupiter/en/jupiter5.en.jpg\"\n",
    "#url = \"../data/images/jwst_segment_alignment.jpg\"\n",
    "\n",
    "img = read_image(url, max_size=img_dim)[:,:,:3]\n",
    "\n",
    "target = image_to_tensor(img)\n",
    "img = tensor_to_image(target)\n",
    "\n",
    "nca = NCA(number_channels=number_channels, number_hidden=number_hidden,\\\n",
    "              number_filters=number_filters, update_rate=update_rate)\n",
    "\n",
    "# view the training image\n",
    "plt.figure()\n",
    "plt.imshow(img)\n",
    "plt.show()\n",
    "\n",
    "hyperparam_msg = f\"hyperparameters: \\n    lr = {lr}, \\n\"\\\n",
    "        f\"    number_channels = {nca.number_channels}\\n\"\\\n",
    "        f\"    number_hidden   = {nca.number_hidden}\\n\"\\\n",
    "        f\"    max_ca_steps    = {max_ca_steps}\\n\"\\\n",
    "        f\"    batch_size      = {batch_size}\\n\"\\\n",
    "        f\"    number_filters  = {nca.number_filters}\\n\"\\\n",
    "        f\"    update_rate  = {nca.update_rate}\\n\"\\\n",
    "\n",
    "print(f\"{exp_tag}, nca parameter count: {nca.count_parameters()}\")\n",
    "print(hyperparam_msg)"
   ]
  },
  {
   "cell_type": "code",
   "execution_count": null,
   "id": "459c1fb3",
   "metadata": {},
   "outputs": [],
   "source": [
    "# optional, crop image\n",
    "\n",
    "if crop_image:\n",
    "    dim = 64\n",
    "    crop_x, crop_y = 256, 256\n",
    "    img = img[crop_x:crop_x+dim, crop_y:crop_y+dim, :]\n",
    "\n",
    "    # view the training image\n",
    "    plt.figure()\n",
    "    plt.imshow(img)\n",
    "    plt.show()"
   ]
  },
  {
   "cell_type": "code",
   "execution_count": null,
   "id": "d4ed061f",
   "metadata": {},
   "outputs": [],
   "source": [
    "# optional, move model to gpu\n",
    "\n",
    "if use_cuda:\n",
    "    nca.to_device(\"cuda\")"
   ]
  },
  {
   "cell_type": "code",
   "execution_count": null,
   "id": "ab7f8a94",
   "metadata": {},
   "outputs": [],
   "source": [
    "# train for textures\n",
    "print(\"begin training\")\n",
    "exp_log = nca.fit(target, max_steps=4096, max_ca_steps=max_ca_steps, lr = lr, exp_tag=exp_tag, batch_size=batch_size)"
   ]
  },
  {
   "cell_type": "code",
   "execution_count": null,
   "id": "e8b3cf1a",
   "metadata": {},
   "outputs": [],
   "source": [
    "num_frames = 200\n",
    "nca.to_device(\"cpu\")\n",
    "\n",
    "grid = nca.get_init_grid(batch_size=1, dim=128)\n",
    "\n",
    "fig, ax = plot_grid(grid)\n",
    "\n",
    "plt.close(\"all\")\n",
    "IPython.display.HTML(matplotlib.animation.FuncAnimation(fig, update_fig, frames=num_frames, interval=100).to_jshtml())"
   ]
  },
  {
   "cell_type": "code",
   "execution_count": null,
   "id": "459df07b",
   "metadata": {},
   "outputs": [],
   "source": [
    "#optional: save animation\n",
    "matplotlib.animation.FuncAnimation(fig, update_fig, frames=num_frames, interval=100).save(\"texture_ca.gif\")"
   ]
  },
  {
   "cell_type": "code",
   "execution_count": null,
   "id": "2571b5fb",
   "metadata": {},
   "outputs": [],
   "source": [
    "# visualize training curves\n",
    "\n",
    "for my_exp_log in os.listdir(\"./\"):\n",
    "    if my_exp_log.endswith(\"dict.npy\"):\n",
    "        my_data = np.load(my_exp_log, allow_pickle=True).reshape(1)[0]\n",
    "\n",
    "        for my_key in my_data.keys():\n",
    "            if my_key != \"step\" and my_key != \"loss\":\n",
    "                print(f\"hyperparam {my_key}: {my_data[my_key]:.4f}\")\n",
    "\n",
    "        plt.figure(figsize=(10,7))\n",
    "        plt.plot(my_data[\"step\"], my_data[\"loss\"], \"o\")\n",
    "\n",
    "        plt.title(f\"Training curve {exp_log}\", fontsize=22)\n",
    "        plt.ylabel(\"style loss\", fontsize=18)\n",
    "        plt.xlabel(\"training step\", fontsize=18)\n",
    "        plt.show()"
   ]
  },
  {
   "cell_type": "code",
   "execution_count": null,
   "id": "7a071d82",
   "metadata": {},
   "outputs": [],
   "source": []
  }
 ],
 "metadata": {
  "kernelspec": {
   "display_name": "Python 3 (ipykernel)",
   "language": "python",
   "name": "python3"
  },
  "language_info": {
   "codemirror_mode": {
    "name": "ipython",
    "version": 3
   },
   "file_extension": ".py",
   "mimetype": "text/x-python",
   "name": "python",
   "nbconvert_exporter": "python",
   "pygments_lexer": "ipython3",
   "version": "3.8.0"
  }
 },
 "nbformat": 4,
 "nbformat_minor": 5
}
