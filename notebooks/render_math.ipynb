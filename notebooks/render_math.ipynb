{
 "cells": [
  {
   "cell_type": "markdown",
   "id": "7b059eeb",
   "metadata": {},
   "source": [
    "# Generating equation images from LaTex with sympy\n",
    "\n",
    "Occasionally, or frequently as the case may be, you may want to include mathematical expressions in a project page on gh-pages or on a [Jekyll](https://jekyllrb.com/)-powered blog in general. Luckily, Markdown allows you to easily include math using LaTeX format by denoting the text with `$$`.\n",
    "\n",
    "```\n",
    "$$\n",
    "\\frac{\\partial u}{\\partial t} = r_u \\nabla^2 u - uv^2 + f(1-u)\n",
    "$$\n",
    "\n",
    "$$\n",
    "\\frac{\\partial v}{\\partial t} = r_v \\nabla^2 v + uv^2 - v(f+k)\n",
    "$$\n",
    "```\n",
    "\n",
    "becomes\n",
    "\n",
    "\n",
    "$$\n",
    "\\frac{\\partial u}{\\partial t} = r_u \\nabla^2 u - uv^2 + f(1-u)\n",
    "$$\n",
    "\n",
    "$$\n",
    "\\frac{\\partial v}{\\partial t} = r_v \\nabla^2 v + uv^2 - v(f+k)\n",
    "$$\n",
    "\n",
    "Unluckily the Kramdown flavor of Markdown favored by Jekyll does not support LaTeX equations, so you'll only see the unrendered LaTeX code if you try to include it in a gh-pages page using Kramdown and Jekyll. We could instead render LaTeX equations in a Jupyter notebook, save the screenshots, and include the screenshots as images in the page, but the results can be inconsistent and it can be a bit tedious besides.\n",
    "\n",
    "There are a few online options like MathJax (_e.g._ [see here](), [here](), or [here]()), but these rely on fetching renders from other websites and I'd rather have a self-contained solution in case those services go offline and to accommodate non-javascript readers.  \n",
    "\n",
    "Luckily `sympy` has a preview function that we can use to generate consistent equation images, which we can then include as normal. \n",
    "\n",
    "```\n",
    "import sympy as sp\n",
    "\n",
    "dudt = r\"$$\\frac{\\partial u}{\\partial t} = r_u \\nabla^2 u - uv^2 + f(1-u)$$\"\n",
    "dvdt = r\"$$\\frac{\\partial v}{\\partial t} = r_v \\nabla^2 v + uv^2 - v(f+k)$$\"\n",
    "\n",
    "sp.preview(dudt, viewer='file', filename='../assets/gray_scott_dudt.png')\n",
    "\n",
    "sp.preview(dvdt, viewer='file', filename='../assets/gray_scott_dvdt.png')\n",
    "```\n",
    "\n",
    "Thanks to Bernardo Kyotoku, ostrokach, and Andrew little for the [advice on StackOverflow](https://stackoverflow.com/questions/4028267/how-to-render-latex-markup-using-python) ([archived](https://web.archive.org/web/20220630163503/https://stackoverflow.com/questions/4028267/how-to-render-latex-markup-using-python)). "
   ]
  },
  {
   "cell_type": "code",
   "execution_count": null,
   "id": "c5d101ce",
   "metadata": {},
   "outputs": [],
   "source": [
    "import sympy as sp\n",
    "\n",
    "dudt = r\"$$\\frac{\\partial u}{\\partial t} = r_u \\nabla^2 u - uv^2 + f(1-u)$$\"\n",
    "dvdt = r\"$$\\frac{\\partial v}{\\partial t} = r_v \\nabla^2 v + uv^2 - v(f+k)$$\"\n",
    "\n",
    "sp.preview(dudt, viewer='file', filename='../assets/gray_scott_dudt.png')\n",
    "\n",
    "sp.preview(dvdt, viewer='file', filename='../assets/gray_scott_dvdt.png')"
   ]
  }
 ],
 "metadata": {
  "kernelspec": {
   "display_name": "Python 3 (ipykernel)",
   "language": "python",
   "name": "python3"
  },
  "language_info": {
   "codemirror_mode": {
    "name": "ipython",
    "version": 3
   },
   "file_extension": ".py",
   "mimetype": "text/x-python",
   "name": "python",
   "nbconvert_exporter": "python",
   "pygments_lexer": "ipython3",
   "version": "3.8.0"
  }
 },
 "nbformat": 4,
 "nbformat_minor": 5
}
